{
 "metadata": {
  "name": ""
 },
 "nbformat": 3,
 "nbformat_minor": 0,
 "worksheets": [
  {
   "cells": [
    {
     "cell_type": "markdown",
     "metadata": {},
     "source": [
      "We're going to analyze some binary data. We implement 2 options: OLS  and Logistic regression in R"
     ]
    },
    {
     "cell_type": "code",
     "collapsed": false,
     "input": [
      "%load_ext rmagic"
     ],
     "language": "python",
     "metadata": {},
     "outputs": [],
     "prompt_number": 2
    },
    {
     "cell_type": "code",
     "collapsed": false,
     "input": [
      "%%R \n",
      "#mydata <- read.csv(\"http://www.ats.ucla.edu/stat/data/binary.csv\")\n",
      "mydata <- read.csv(\"binary.csv\")"
     ],
     "language": "python",
     "metadata": {},
     "outputs": [],
     "prompt_number": 3
    },
    {
     "cell_type": "altset",
     "cells": [
      {
       "cell_type": "alt",
       "cells": [
        {
         "cell_type": "code",
         "collapsed": false,
         "input": "%%R\nsamp = sample(seq(1, nrow(mydata)), floor(nrow(mydata)/10))\ntrain = mydata[-samp,]\ntest = mydata[samp,]",
         "language": "python",
         "metadata": {},
         "outputs": [],
         "prompt_number": 4
        }
       ],
       "metadata": {},
       "most_recent": false
      },
      {
       "cell_type": "alt",
       "cells": [
        {
         "cell_type": "code",
         "collapsed": false,
         "input": "%%R\ntrain = test = mydata",
         "language": "python",
         "metadata": {},
         "outputs": [],
         "prompt_number": 30
        }
       ],
       "metadata": {},
       "most_recent": true
      }
     ],
     "metadata": {}
    },
    {
     "cell_type": "altset",
     "cells": [
      {
       "cell_type": "alt",
       "cells": [
        {
         "cell_type": "code",
         "collapsed": false,
         "input": "%%R\ntrain$rank = factor(train$rank)\ntest$rank = factor(test$rank)",
         "language": "python",
         "metadata": {},
         "outputs": [],
         "prompt_number": 31
        }
       ],
       "metadata": {},
       "most_recent": true
      },
      {
       "cell_type": "alt",
       "cells": [
        {
         "cell_type": "code",
         "collapsed": false,
         "input": "%%R\n#do nothing",
         "language": "python",
         "metadata": {},
         "outputs": []
        }
       ],
       "metadata": {},
       "most_recent": false
      }
     ],
     "metadata": {}
    },
    {
     "cell_type": "altset",
     "cells": [
      {
       "cell_type": "alt",
       "cells": [
        {
         "cell_type": "code",
         "collapsed": false,
         "input": "%%R\nfit = lm(admit~., data = train)\nclass = ifelse(fit$fitted>=.5, 1, 0)",
         "language": "python",
         "metadata": {},
         "outputs": [],
         "prompt_number": 39
        },
        {
         "cell_type": "code",
         "collapsed": false,
         "input": "%%R\nprint(table(class))",
         "language": "python",
         "metadata": {},
         "outputs": [
          {
           "metadata": {},
           "output_type": "display_data",
           "text": "class\n  0   1 \n353  47 \n"
          }
         ],
         "prompt_number": 40
        },
        {
         "cell_type": "code",
         "collapsed": false,
         "input": "%%R\npred=  ifelse(predict(fit, test) > .5, 1, 0)",
         "language": "python",
         "metadata": {},
         "outputs": [],
         "prompt_number": 41
        }
       ],
       "metadata": {},
       "most_recent": true
      },
      {
       "cell_type": "alt",
       "cells": [
        {
         "cell_type": "code",
         "collapsed": false,
         "input": "%%R\nfit = glm(admit~., data= train,\n        family = \"binomial\")\nclass = ifelse(predict(fit, type=\"response\") > .5,\n        1, 0)",
         "language": "python",
         "metadata": {},
         "outputs": [],
         "prompt_number": 32
        },
        {
         "cell_type": "code",
         "collapsed": false,
         "input": "%%R\ntable(class)",
         "language": "python",
         "metadata": {},
         "outputs": [
          {
           "metadata": {},
           "output_type": "display_data",
           "text": "class\n  0   1 \n351  49 \n"
          }
         ],
         "prompt_number": 33
        },
        {
         "cell_type": "code",
         "collapsed": false,
         "input": "%%R\npred = ifelse(predict(fit, test, type=\"response\") > .5, 1, 0)",
         "language": "python",
         "metadata": {},
         "outputs": [],
         "prompt_number": 34
        }
       ],
       "metadata": {},
       "most_recent": false
      }
     ],
     "metadata": {}
    },
    {
     "cell_type": "code",
     "collapsed": false,
     "input": [
      "%%R\n",
      "table(pred, test$admit)"
     ],
     "language": "python",
     "metadata": {},
     "outputs": [
      {
       "metadata": {},
       "output_type": "display_data",
       "text": [
        "    \n",
        "pred   0   1\n",
        "   0 256  97\n",
        "   1  17  30\n"
       ]
      }
     ],
     "prompt_number": 43
    },
    {
     "cell_type": "code",
     "collapsed": false,
     "input": [
      "%%R\n",
      "newdat = data.frame(gre = sample(seq(700, 800, by=10), 4, replace=TRUE),\n",
      "                    gpa = round(runif(4, min = 3.5, max = 4), digits =2),\n",
      "                    rank = sample(factor(1:4), 4, replace=TRUE)\n",
      "                    )\n",
      "newdat"
     ],
     "language": "python",
     "metadata": {},
     "outputs": [
      {
       "metadata": {},
       "output_type": "display_data",
       "text": [
        "  gre  gpa rank\n",
        "1 720 3.74    1\n",
        "2 800 3.74    1\n",
        "3 750 3.95    3\n",
        "4 730 3.57    3\n"
       ]
      }
     ],
     "prompt_number": 44
    },
    {
     "cell_type": "code",
     "collapsed": false,
     "input": [
      "%%R\n",
      "predict(fit, newdat, type=\"response\")"
     ],
     "language": "python",
     "metadata": {},
     "outputs": [
      {
       "metadata": {},
       "output_type": "display_data",
       "text": [
        "        1         2         3         4 \n",
        "0.6320826 0.6664483 0.3870616 0.3193669 \n"
       ]
      }
     ],
     "prompt_number": 45
    },
    {
     "cell_type": "code",
     "collapsed": false,
     "input": [
      "%%R\n",
      "fit"
     ],
     "language": "python",
     "metadata": {},
     "outputs": [
      {
       "metadata": {},
       "output_type": "display_data",
       "text": [
        "\n",
        "Call:\n",
        "lm(formula = admit ~ ., data = train)\n",
        "\n",
        "Coefficients:\n",
        "(Intercept)          gre          gpa        rank2        rank3        rank4  \n",
        " -0.2589102    0.0004296    0.1555350   -0.1623653   -0.2905705   -0.3230264  \n",
        "\n"
       ]
      }
     ],
     "prompt_number": 46
    },
    {
     "cell_type": "code",
     "collapsed": false,
     "input": [],
     "language": "python",
     "metadata": {},
     "outputs": []
    }
   ],
   "metadata": {}
  }
 ]
}