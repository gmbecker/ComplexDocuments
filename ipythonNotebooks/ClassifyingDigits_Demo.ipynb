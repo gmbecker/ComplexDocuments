{
 "metadata": {
  "name": ""
 },
 "nbformat": 3,
 "nbformat_minor": 0,
 "worksheets": [
  {
   "cells": [
    {
     "cell_type": "code",
     "collapsed": false,
     "input": [
      "%load_ext rmagic"
     ],
     "language": "python",
     "metadata": {},
     "outputs": [],
     "prompt_number": 1
    },
    {
     "cell_type": "code",
     "collapsed": false,
     "input": [
      "%%R\n",
      "source(\"DigitFuns.R\")\n",
      "load_digit_data();"
     ],
     "language": "python",
     "metadata": {},
     "outputs": [],
     "prompt_number": 110
    },
    {
     "cell_type": "markdown",
     "metadata": {
      "dyndocmodel": {
       "detail": 2
      }
     },
     "source": [
      "We first look at a single digit's worth of data to make sure we understand what the data represents (the first digit happens to be a 9)."
     ]
    },
    {
     "cell_type": "code",
     "collapsed": false,
     "input": [
      "%%R\n",
      "onedig = as.numeric(train[min(which(train$label==9)),-1])\n",
      "onedigmat = matrix(onedig, nrow=28)\n",
      "image(onedigmat)"
     ],
     "language": "python",
     "metadata": {
      "dyndocmodel": {
       "detail": 3
      }
     },
     "outputs": [
      {
       "metadata": {},
       "output_type": "display_data",
       "png": "[encoded data removed]"
      }
     ],
     "prompt_number": 112
    },
    {
     "cell_type": "markdown",
     "metadata": {
      "dyndocmodel": {
       "detail": 3
      }
     },
     "source": [
      "We can see that it is in fact a 9, but that the orientation is not correct. We need to rotate the image in order to have it accurately reflect what was drawn."
     ]
    },
    {
     "cell_type": "markdown",
     "metadata": {
      "dyndocmodel": {
       "detail": 2
      }
     },
     "source": [
      "By multiplying our data matrix by the correct rotation matrix we are able to get the image to draw correctly."
     ]
    },
    {
     "cell_type": "code",
     "collapsed": false,
     "input": [
      "%%R\n",
      "rotmat = diag(rep(1, times=28))[28:1,]\n",
      "newmat = onedigmat%*%rotmat\n",
      "image(newmat)"
     ],
     "language": "python",
     "metadata": {
      "dyndocmodel": {
       "detail": 2
      }
     },
     "outputs": [
      {
       "metadata": {},
       "output_type": "display_data",
       "png": "[encoded data removed]"
      }
     ],
     "prompt_number": 113
    },
    {
     "cell_type": "altset",
     "cells": [
      {
       "cell_type": "alt",
       "cells": [
        {
         "cell_type": "markdown",
         "metadata": {},
         "source": "Recursive partition trees (on Principal Components)"
        },
        {
         "cell_type": "code",
         "collapsed": false,
         "input": "%%R\nallEigs = eigen(var(as.matrix(train[, -1])))\npcDatAll = as.matrix(train[, -1]) %*% allEigs$vectors[, 1:25]\n\nallPCDF = cbind.data.frame(pcDatAll, label = train$label)\ntestPC = as.matrix(testvals[,-1]) %*% allEigs$vectors[,1:25]\ntestPCDF = as.data.frame(testPC)\nnames(testPCDF) =  1:25",
         "language": "python",
         "metadata": {},
         "outputs": [],
         "prompt_number": 117
        },
        {
         "cell_type": "interactivecode",
         "collapsed": false,
         "input": "%%R\nmd = 15;\nalldigsRp = rpart(label ~ ., allPCDF, method = \"class\", control = rpart.control( maxdepth=md, cp=.0001))\nplot(alldigsRp)\npredvals = predict(alldigsRp, as.data.frame(testPCDF), type=\"class\")",
         "language": "python",
         "metadata": {},
         "outputs": [
          {
           "metadata": {},
           "output_type": "display_data",
           "png": "iVBORw0KGgoAAAANSUhEUgAAAeAAAAHgCAMAAABKCk6nAAABvFBMVEUcHBwlJSUmJiYnJycoKCgr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\nOAKLI7A4AosjsDgCiyOwOAKL+x9lwn4+2XPfiQAAAABJRU5ErkJggg==\n"
          }
         ],
         "prompt_number": 129,
         "widgets": [
          {
           "linenum": "1",
           "max": "15",
           "min": "1",
           "step": "1",
           "type": "slider",
           "variable": "md"
          }
         ]
        },
        {
         "cell_type": "code",
         "collapsed": false,
         "input": "%%R\ngetRates(predvals, testvals$label)$overall",
         "language": "python",
         "metadata": {},
         "outputs": [
          {
           "metadata": {},
           "output_type": "display_data",
           "text": "[1] 0.409\n"
          }
         ],
         "prompt_number": 130
        }
       ],
       "metadata": {},
       "most_recent": false
      },
      {
       "cell_type": "alt",
       "cells": [
        {
         "cell_type": "markdown",
         "metadata": {},
         "source": "k-Nearest Neighbors"
        },
        {
         "cell_type": "code",
         "collapsed": false,
         "input": "%%Rcaching\ndistmat = as.matrix(dist(rbind(testvals[,-1], train[,-1])))[1:nrow(testvals), -(1:nrow(testvals))]",
         "language": "python",
         "metadata": {},
         "outputs": [],
         "prompt_number": 152
        },
        {
         "cell_type": "interactivecode",
         "collapsed": false,
         "input": "%%R\nk = 1;\npredvals = doKNN(train[,-1], truthTrain = train$label, testvals[,-1], k=k, distMat = distmat)\nerrs = getRates(predvals, testvals$label)\nbarplot(errs$rel_dig, main = sprintf(\"Misclassifications by true digit for k = %d\", k), \n    sub = sprintf(\"Overall misclassification rate: %f\", errs$overall), ylim = c(0, .35))",
         "language": "python",
         "metadata": {},
         "outputs": [
          {
           "metadata": {},
           "output_type": "display_data",
           "png": "iVBORw0KGgoAAAANSUhEUgAAAeAAAAHgCAMAAABKCk6nAAAC/VBMVEUAAAABAQECAgIDAwMEBAQF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\nHnZxZvCmYOAaEMwcCGYOBDPnXyOOSqRC598lAAAAAElFTkSuQmCC\n"
          }
         ],
         "prompt_number": 153,
         "widgets": [
          {
           "linenum": "1",
           "max": "11",
           "min": "1",
           "step": "2",
           "type": "slider",
           "variable": "k"
          }
         ]
        },
        {
         "cell_type": "code",
         "collapsed": false,
         "input": "%%R\ngetRates(predvals, testvals$label)$overall",
         "language": "python",
         "metadata": {},
         "outputs": [
          {
           "metadata": {},
           "output_type": "display_data",
           "text": "[1] 0.15\n"
          }
         ],
         "prompt_number": 154
        }
       ],
       "metadata": {},
       "most_recent": true
      },
      {
       "cell_type": "alt",
       "cells": [
        {
         "cell_type": "markdown",
         "metadata": {},
         "source": "Support vector machines"
        },
        {
         "cell_type": "code",
         "collapsed": false,
         "input": "%%R\nlibrary(e1071)\nmod = svm(x = train[,-1], y = as.factor(train$label), kernel = \"linear\")\nmod",
         "language": "python",
         "metadata": {},
         "outputs": [
          {
           "metadata": {},
           "output_type": "display_data",
           "text": "\nCall:\nsvm.default(x = train[, -1], y = as.factor(train$label), kernel = \"linear\")\n\n\nParameters:\n   SVM-Type:  C-classification \n SVM-Kernel:  linear \n       cost:  1 \n      gamma:  0.00127551 \n\nNumber of Support Vectors:  363\n\n"
          }
         ],
         "prompt_number": 142
        },
        {
         "cell_type": "code",
         "collapsed": false,
         "input": "%%R\npredvals = predict(mod, testvals[,-1])",
         "language": "python",
         "metadata": {},
         "outputs": [],
         "prompt_number": 143
        },
        {
         "cell_type": "code",
         "collapsed": false,
         "input": "%%R\ngetRates(predvals, testvals$label)$overall",
         "language": "python",
         "metadata": {},
         "outputs": [
          {
           "metadata": {},
           "output_type": "display_data",
           "text": "[1] 0.149\n"
          }
         ],
         "prompt_number": 144
        }
       ],
       "metadata": {},
       "most_recent": false
      }
     ],
     "metadata": {}
    },
    {
     "cell_type": "markdown",
     "metadata": {},
     "source": [
      "This gives us a confusion matrix of"
     ]
    },
    {
     "cell_type": "code",
     "collapsed": false,
     "input": [
      "%%R\n",
      "table(true = testvals$label, pred = predvals)"
     ],
     "language": "python",
     "metadata": {},
     "outputs": [
      {
       "metadata": {},
       "output_type": "display_data",
       "text": [
        "    pred\n",
        "true  0  1  2  3  4  5  6  7  8  9\n",
        "   0 92  1  0  0  0  2  4  0  1  0\n",
        "   1  0 98  0  0  0  0  0  1  0  1\n",
        "   2  2  4 78  4  0  1  2  4  5  0\n",
        "   3  0  3  1 79  0  6  1  2  5  3\n",
        "   4  0  1  0  2 86  0  0  2  0  9\n",
        "   5  1  2  0 10  1 78  2  0  4  2\n",
        "   6  1  2  0  1  1  1 93  0  1  0\n",
        "   7  0  3  0  0  0  0  0 90  1  6\n",
        "   8  2  4  0  8  0  3  1  0 75  7\n",
        "   9  1  0  0  0 11  0  0  6  1 81\n"
       ]
      }
     ],
     "prompt_number": 150
    },
    {
     "cell_type": "code",
     "collapsed": false,
     "input": [],
     "language": "python",
     "metadata": {},
     "outputs": []
    }
   ],
   "metadata": {}
  }
 ]
}