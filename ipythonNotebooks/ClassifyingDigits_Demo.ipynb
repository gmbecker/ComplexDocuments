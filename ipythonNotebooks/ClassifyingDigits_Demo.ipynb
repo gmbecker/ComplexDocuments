{
 "metadata": {
  "name": ""
 },
 "nbformat": 3,
 "nbformat_minor": 0,
 "worksheets": [
  {
   "cells": [
    {
     "cell_type": "code",
     "collapsed": false,
     "input": [
      "%load_ext rmagic"
     ],
     "language": "python",
     "metadata": {},
     "outputs": [],
     "prompt_number": 2
    },
    {
     "cell_type": "code",
     "collapsed": false,
     "input": [
      "%%Rcaching --cacherandom\n",
      "set.seed(1500)\n",
      "source(\"DigitFuns.R\")\n",
      "load_digit_data(train_per_digit=100);"
     ],
     "language": "python",
     "metadata": {},
     "outputs": [],
     "prompt_number": 3
    },
    {
     "cell_type": "markdown",
     "metadata": {
      "dyndocmodel": {
       "detail": 2
      }
     },
     "source": [
      "We first look at a single digit's worth of data to make sure we understand what the data represents (the first digit happens to be a 9)."
     ]
    },
    {
     "cell_type": "code",
     "collapsed": false,
     "input": [
      "%%R\n",
      "onedig = as.numeric(train[min(which(train$label==9)),-1])\n",
      "onedigmat = matrix(onedig, nrow=28)\n",
      "image(onedigmat)"
     ],
     "language": "python",
     "metadata": {
      "dyndocmodel": {
       "detail": 3
      }
     },
     "outputs": [
      {
       "metadata": {},
       "output_type": "display_data",
       "png": "[encoded data removed]"
      }
     ],
     "prompt_number": 12
    },
    {
     "cell_type": "markdown",
     "metadata": {
      "dyndocmodel": {
       "detail": 3
      }
     },
     "source": [
      "We can see that it is in fact a 9, but that the orientation is not correct. We need to rotate the image in order to have it accurately reflect what was drawn."
     ]
    },
    {
     "cell_type": "markdown",
     "metadata": {
      "dyndocmodel": {
       "detail": 2
      }
     },
     "source": [
      "By multiplying our data matrix by the correct rotation matrix we are able to get the image to draw correctly."
     ]
    },
    {
     "cell_type": "code",
     "collapsed": false,
     "input": [
      "%%R\n",
      "rotmat = diag(rep(1, times=28))[28:1,]\n",
      "newmat = onedigmat%*%rotmat\n",
      "image(newmat)"
     ],
     "language": "python",
     "metadata": {
      "dyndocmodel": {
       "detail": 2
      }
     },
     "outputs": [
      {
       "metadata": {},
       "output_type": "display_data",
       "png": "[encoded data removed]"
      }
     ],
     "prompt_number": 13
    },
    {
     "cell_type": "altset",
     "cells": [
      {
       "cell_type": "alt",
       "cells": [
        {
         "cell_type": "markdown",
         "metadata": {},
         "source": "Recursive partition trees (on Principal Components)"
        },
        {
         "cell_type": "code",
         "collapsed": false,
         "input": "%%R\nallEigs = eigen(var(as.matrix(train[, -1])))\npcDatAll = as.matrix(train[, -1]) %*% allEigs$vectors[, 1:25]\n\nallPCDF = cbind.data.frame(pcDatAll, label = train$label)\ntestPC = as.matrix(testvals[,-1]) %*% allEigs$vectors[,1:25]\ntestPCDF = as.data.frame(testPC)\nnames(testPCDF) =  1:25",
         "language": "python",
         "metadata": {},
         "outputs": [],
         "prompt_number": 4
        },
        {
         "cell_type": "code",
         "collapsed": false,
         "input": "%%R\nmd = 14;\nalldigsRp = rpart(label ~ ., allPCDF, method = \"class\", control = rpart.control( maxdepth=md, cp=.0001))\npredvals = predict(alldigsRp, as.data.frame(testPCDF), type=\"class\")",
         "language": "python",
         "metadata": {},
         "outputs": [],
         "prompt_number": 5
        },
        {
         "cell_type": "code",
         "collapsed": false,
         "input": "%%R\ngetRates(predvals, testvals$label)$overall",
         "language": "python",
         "metadata": {},
         "outputs": [
          {
           "metadata": {},
           "output_type": "display_data",
           "text": "[1] 0.35\n"
          }
         ],
         "prompt_number": 6
        }
       ],
       "metadata": {},
       "most_recent": false
      },
      {
       "cell_type": "alt",
       "cells": [
        {
         "cell_type": "markdown",
         "metadata": {},
         "source": "k-Nearest Neighbors"
        },
        {
         "cell_type": "code",
         "collapsed": false,
         "input": "%%Rcaching\ndistmat = as.matrix(dist(rbind(testvals[,-1], train[,-1])))[1:nrow(testvals), -(1:nrow(testvals))]",
         "language": "python",
         "metadata": {},
         "outputs": [],
         "prompt_number": 117
        },
        {
         "cell_type": "interactivecode",
         "collapsed": false,
         "input": "%%R\nk = 3;\npredvals = doKNN(train[,-1], truthTrain = train$label, testvals[,-1], k=k, distMat = distmat)\nerrs = getRates(predvals, testvals$label)\nbarplot(errs$rel_dig, main = sprintf(\"Misclassifications by true digit for k = %d\", k), \n    sub = sprintf(\"Overall misclassification rate: %f\", errs$overall), ylim = c(0, .35))",
         "language": "python",
         "metadata": {},
         "outputs": [
          {
           "metadata": {},
           "output_type": "display_data",
           "png": "iVBORw0KGgoAAAANSUhEUgAAAeAAAAHgCAMAAABKCk6nAAAC/VBMVEUAAAABAQECAgIDAwMEBAQF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\nrkJggg==\n"
          }
         ],
         "prompt_number": 118,
         "widgets": [
          {
           "linenum": "1",
           "max": "11",
           "min": "1",
           "step": "2",
           "type": "slider",
           "variable": "k"
          }
         ]
        },
        {
         "cell_type": "code",
         "collapsed": false,
         "input": "%%R\ngetRates(predvals, testvals$label)$overall",
         "language": "python",
         "metadata": {},
         "outputs": [
          {
           "metadata": {},
           "output_type": "display_data",
           "text": "[1] 0.116\n"
          }
         ],
         "prompt_number": 119
        }
       ],
       "metadata": {},
       "most_recent": false
      },
      {
       "cell_type": "alt",
       "cells": [
        {
         "cell_type": "markdown",
         "metadata": {},
         "source": "Support vector machines"
        },
        {
         "cell_type": "code",
         "collapsed": false,
         "input": "%%R\nlibrary(e1071)\nmod = svm(x = train[,-1], y = as.factor(train$label), kernel = \"linear\")\nmod",
         "language": "python",
         "metadata": {},
         "outputs": [
          {
           "metadata": {},
           "output_type": "display_data",
           "text": "\nCall:\nsvm.default(x = train[, -1], y = as.factor(train$label), kernel = \"linear\")\n\n\nParameters:\n   SVM-Type:  C-classification \n SVM-Kernel:  linear \n       cost:  1 \n      gamma:  0.00127551 \n\nNumber of Support Vectors:  584\n\n"
          }
         ],
         "prompt_number": 7
        },
        {
         "cell_type": "code",
         "collapsed": false,
         "input": "%%R\npredvals = predict(mod, testvals[,-1])",
         "language": "python",
         "metadata": {},
         "outputs": [],
         "prompt_number": 8
        },
        {
         "cell_type": "code",
         "collapsed": false,
         "input": "%%R\ngetRates(predvals, testvals$label)$overall",
         "language": "python",
         "metadata": {},
         "outputs": [
          {
           "metadata": {},
           "output_type": "display_data",
           "text": "[1] 0.115\n"
          }
         ],
         "prompt_number": 9
        }
       ],
       "metadata": {},
       "most_recent": true
      }
     ],
     "metadata": {}
    },
    {
     "cell_type": "markdown",
     "metadata": {},
     "source": [
      "This gives us a confusion matrix of"
     ]
    },
    {
     "cell_type": "code",
     "collapsed": false,
     "input": [
      "%%R\n",
      "table(true = testvals$label, pred = predvals)"
     ],
     "language": "python",
     "metadata": {},
     "outputs": [
      {
       "metadata": {},
       "output_type": "display_data",
       "text": [
        "    pred\n",
        "true  0  1  2  3  4  5  6  7  8  9\n",
        "   0 93  0  0  0  0  4  1  0  2  0\n",
        "   1  0 97  1  0  0  0  0  0  2  0\n",
        "   2  2  0 81  1  6  0  0  3  5  2\n",
        "   3  0  0  4 86  0  3  0  0  6  1\n",
        "   4  1  0  0  0 86  0  1  0  0 12\n",
        "   5  4  1  2  7  1 78  1  1  3  2\n",
        "   6  0  0  2  0  0  2 96  0  0  0\n",
        "   7  0  1  0  0  0  0  0 94  1  4\n",
        "   8  0  3  0  2  1  4  1  0 86  3\n",
        "   9  1  0  0  1  3  2  0  3  2 88\n"
       ]
      }
     ],
     "prompt_number": 10
    },
    {
     "cell_type": "code",
     "collapsed": false,
     "input": [],
     "language": "python",
     "metadata": {},
     "outputs": []
    }
   ],
   "metadata": {}
  }
 ]
}