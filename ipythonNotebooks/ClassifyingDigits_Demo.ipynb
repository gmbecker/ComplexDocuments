{
 "metadata": {
  "name": ""
 },
 "nbformat": 3,
 "nbformat_minor": 0,
 "worksheets": [
  {
   "cells": [
    {
     "cell_type": "code",
     "collapsed": false,
     "input": [
      "%load_ext rmagic"
     ],
     "language": "python",
     "metadata": {},
     "outputs": [],
     "prompt_number": 1
    },
    {
     "cell_type": "code",
     "collapsed": false,
     "input": [
      "%%R\n",
      "if(!exists(\"train.sub\"))\n",
      "    load(\"digitsSub.rda\")"
     ],
     "language": "python",
     "metadata": {},
     "outputs": [],
     "prompt_number": 2
    },
    {
     "cell_type": "markdown",
     "metadata": {},
     "source": [
      "So we have 5000 handdrawn digits with 784 pixels values for each. The 1st column is the true classification of the digit"
     ]
    },
    {
     "cell_type": "markdown",
     "metadata": {
      "dyndocmodel": {
       "detail": 2
      }
     },
     "source": [
      "We first look at a single digit's worth of data to make sure we understand what the data represents (the first digit happens to be a 9)."
     ]
    },
    {
     "cell_type": "code",
     "collapsed": false,
     "input": [
      "%%R\n",
      "onedig = as.numeric(train.sub[1,-1])\n",
      "onedigmat = matrix(onedig, nrow=28)\n",
      "image(onedigmat)"
     ],
     "language": "python",
     "metadata": {
      "dyndocmodel": {
       "detail": 3
      }
     },
     "outputs": [
      {
       "metadata": {},
       "output_type": "display_data",
       "png": "[encoded data removed]"
      }
     ],
     "prompt_number": 3
    },
    {
     "cell_type": "markdown",
     "metadata": {
      "dyndocmodel": {
       "detail": 3
      }
     },
     "source": [
      "We can see that it is in fact a 9, but that the orientation is not correct. We need to rotate the image in order to have it accurately reflect what was drawn."
     ]
    },
    {
     "cell_type": "markdown",
     "metadata": {
      "dyndocmodel": {
       "detail": 2
      }
     },
     "source": [
      "By multiplying our data matrix by the correct rotation matrix we are able to get the image to draw correctly."
     ]
    },
    {
     "cell_type": "code",
     "collapsed": false,
     "input": [
      "%%R\n",
      "rotmat = diag(rep(1, times=28))[28:1,]\n",
      "newmat = onedigmat%*%rotmat\n",
      "image(newmat)"
     ],
     "language": "python",
     "metadata": {
      "dyndocmodel": {
       "detail": 2
      }
     },
     "outputs": [
      {
       "metadata": {},
       "output_type": "display_data",
       "png": "[encoded data removed]"
      }
     ],
     "prompt_number": 4
    },
    {
     "cell_type": "altset",
     "cells": [
      {
       "cell_type": "alt",
       "cells": [
        {
         "cell_type": "code",
         "collapsed": false,
         "input": "%%R\nif(!exists(\"sampleTrain\"))\n    load(\"digitsTrain.rda\")\nif(!exists(\"test\"))\n    load(\"digitsKnownTest.rda\")\ndim(sampleTrain)\n",
         "language": "python",
         "metadata": {},
         "outputs": [
          {
           "metadata": {},
           "output_type": "display_data",
           "text": "[1] 28000   785\n"
          }
         ],
         "prompt_number": 13
        },
        {
         "cell_type": "code",
         "collapsed": false,
         "input": "",
         "language": "python",
         "metadata": {},
         "outputs": [],
         "prompt_number": 13
        }
       ],
       "metadata": {},
       "most_recent": true
      },
      {
       "cell_type": "alt",
       "cells": [
        {
         "cell_type": "code",
         "collapsed": false,
         "input": "%%R\nif(!exists(\"sampleTrain\"))\n    load(url(\"http://eeyore.ucdavis.edu/stat135/data/digitsTrain.rda\"))\nif(!exists(\"test\"))\n    load(url(\"http://eeyore.ucdavis.edu/stat135/data/digitsKnownTest.rda\"))\ndim(sampleTrain)",
         "language": "python",
         "metadata": {},
         "outputs": [
          {
           "output_type": "stream",
           "stream": "stderr",
           "text": "ERROR: Cell magic `%%R` not found.\n"
          }
         ],
         "prompt_number": 1
        }
       ],
       "metadata": {},
       "most_recent": false
      }
     ],
     "metadata": {}
    },
    {
     "cell_type": "altset",
     "cells": [
      {
       "cell_type": "alt",
       "cells": [
        {
         "cell_type": "code",
         "collapsed": false,
         "input": "%%R\ninds = lapply(split(seq(1, nrow(sampleTrain)), sampleTrain$label), sample, size=50)\ntrain = sampleTrain[unlist(inds), ]\ninds2 = lapply(split(seq(1, nrow(test)), test$label), sample, size = 100)\ntestvals = test[unlist(inds2),]",
         "language": "python",
         "metadata": {},
         "outputs": [],
         "prompt_number": 319
        }
       ],
       "metadata": {},
       "most_recent": true
      },
      {
       "cell_type": "alt",
       "cells": [
        {
         "cell_type": "code",
         "collapsed": false,
         "input": "%%R\ninds = lapply(split(seq(1, nrow(sampleTrain)), sampleTrain$label), sample, size=75)\ntrain = sampleTrain[unlist(inds), ]\ninds2 = lapply(split(seq(1, nrow(test)), test$label), sample, size = 150)\ntestvals = test[unlist(inds2),]",
         "language": "python",
         "metadata": {},
         "outputs": [],
         "prompt_number": 195
        }
       ],
       "metadata": {},
       "most_recent": false
      },
      {
       "cell_type": "alt",
       "cells": [
        {
         "cell_type": "code",
         "collapsed": false,
         "input": "%%R\ntrain = sampleTrain\ntestvals = test",
         "language": "python",
         "metadata": {},
         "outputs": [],
         "prompt_number": 41
        }
       ],
       "metadata": {},
       "most_recent": false
      }
     ],
     "metadata": {}
    },
    {
     "cell_type": "code",
     "collapsed": false,
     "input": [
      "%%R\n",
      "allEigs = eigen(var(as.matrix(train[, -1])))\n",
      "pcDatAll = as.matrix(train[, -1]) %*% allEigs$vectors[, 1:25]\n",
      "\n",
      "allPCDF = cbind.data.frame(pcDatAll, label = train$label)\n",
      "testPC = as.matrix(testvals[,-1]) %*% allEigs$vectors[,1:25]\n",
      "testPCDF = as.data.frame(testPC)\n",
      "names(testPCDF) =  1:25"
     ],
     "language": "python",
     "metadata": {},
     "outputs": [],
     "prompt_number": 320
    },
    {
     "cell_type": "altset",
     "cells": [
      {
       "cell_type": "alt",
       "cells": [
        {
         "cell_type": "interactivecode",
         "collapsed": false,
         "input": "%%R\nmd = 6;\nalldigsRp = rpart(label ~ ., allPCDF, method = \"class\", control = rpart.control( maxdepth=md, cp=.0001))\nplot(alldigsRp)\npredvals = predict(alldigsRp, as.data.frame(testPCDF), type=\"class\")\nsum(testvals$label != levels(predvals)[predvals])/nrow(testvals)",
         "language": "python",
         "metadata": {},
         "outputs": [
          {
           "metadata": {},
           "output_type": "display_data",
           "text": "[1] 0.458\n"
          },
          {
           "metadata": {},
           "output_type": "display_data",
           "png": "iVBORw0KGgoAAAANSUhEUgAAAeAAAAHgCAMAAABKCk6nAAABUFBMVEUhISEmJiYqKiosLCwuLi4v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\n4QwMZ2A4A8MZGO5rTA2SN1Er5l8AAAAASUVORK5CYII=\n"
          }
         ],
         "prompt_number": 594,
         "widgets": [
          {
           "linenum": "1",
           "max": "15",
           "min": "1",
           "step": "1",
           "type": "slider",
           "variable": "md"
          }
         ]
        },
        {
         "cell_type": "code",
         "collapsed": false,
         "input": "%%R\ntable(predvals)",
         "language": "python",
         "metadata": {},
         "outputs": [
          {
           "metadata": {},
           "output_type": "display_data",
           "text": "predvals\n  0   1   2   3   4   5   6   7   8   9 \n 85  93 172 238  75  42  95 112   0  88 \n"
          }
         ],
         "prompt_number": 595
        },
        {
         "cell_type": "code",
         "collapsed": false,
         "input": "%%R\ntable(true = testvals$label, pred = levels(predvals)[predvals])",
         "language": "python",
         "metadata": {},
         "outputs": [
          {
           "metadata": {},
           "output_type": "display_data",
           "text": "    pred\ntrue  0  1  2  3  4  5  6  7  9\n   0 66  0 12 17  0  0  5  0  0\n   1  0 90  3  6  0  0  1  0  0\n   2  8  1 66 18  0  1  5  1  0\n   3  0  0 15 74  3  1  2  5  0\n   4  1  1 15  5 38  2  3 13 22\n   5  4  0 11 37  7 24  4  1 12\n   6  3  0 22  4  0  0 70  0  1\n   7  0  1  5 11  1  2  0 72  8\n   8  3  0 16 59  0 11  5  3  3\n   9  0  0  7  7 26  1  0 17 42\n"
          }
         ],
         "prompt_number": 596
        },
        {
         "cell_type": "code",
         "collapsed": false,
         "input": "%%R\n",
         "language": "python",
         "metadata": {},
         "outputs": [
          {
           "metadata": {},
           "output_type": "display_data",
           "text": "[1] 0.3686667\n"
          }
         ],
         "prompt_number": 226
        },
        {
         "cell_type": "code",
         "collapsed": false,
         "input": "",
         "language": "python",
         "metadata": {},
         "outputs": [],
         "prompt_number": 226
        }
       ],
       "metadata": {},
       "most_recent": false
      },
      {
       "cell_type": "alt",
       "cells": [
        {
         "cell_type": "code",
         "collapsed": false,
         "input": "%%R\nk=3\npredvals = doKNN(train[,-1], truthTrain = train$label, testvals[,-1], k=k)",
         "language": "python",
         "metadata": {},
         "outputs": [],
         "prompt_number": 123
        },
        {
         "cell_type": "code",
         "collapsed": false,
         "input": "%%R\ntable(true=testvals$label, pred = predvals)",
         "language": "python",
         "metadata": {},
         "outputs": [
          {
           "metadata": {},
           "output_type": "display_data",
           "text": "    pred\ntrue   0   1   2   3   4   5   6   7   8   9\n   0  96   1   0   0   2   0   0   0   1   0\n   1   0 100   0   0   0   0   0   0   0   0\n   2   4  14  69   2   3   1   0   4   2   1\n   3   2   3   3  81   1   2   1   1   4   2\n   4   0   0   2   0  86   0   0   0   0  12\n   5   2   1   0   9   2  80   1   0   4   1\n   6   1   5   0   0   3   0  91   0   0   0\n   7   0   9   0   0   2   1   0  82   0   6\n   8   0   5   0   5   4   4   1   2  76   3\n   9   0   1   1   4  15   1   0   6   0  72\n"
          }
         ],
         "prompt_number": 124
        },
        {
         "cell_type": "code",
         "collapsed": false,
         "input": "%%R\nsum(testvals$label != predvals)/nrow(testvals)",
         "language": "python",
         "metadata": {},
         "outputs": [
          {
           "metadata": {},
           "output_type": "display_data",
           "text": "[1] 0.167\n"
          }
         ],
         "prompt_number": 125
        },
        {
         "cell_type": "code",
         "collapsed": false,
         "input": "",
         "language": "python",
         "metadata": {},
         "outputs": []
        }
       ],
       "metadata": {},
       "most_recent": false
      },
      {
       "cell_type": "alt",
       "cells": [
        {
         "cell_type": "interactivecode",
         "collapsed": false,
         "input": "%%Rcaching --cacherandom\nlibrary(class)\nk = 3;\npredvals = knn(train[,-1], testvals[,-1], train$label,  k=k)",
         "language": "python",
         "metadata": {},
         "outputs": [
          {
           "metadata": {},
           "output_type": "display_data",
           "png": "iVBORw0KGgoAAAANSUhEUgAAAeAAAAHgCAIAAADytinCAAAgAElEQVR4nO3de3jMd9r48XsmkwMy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\nTqJ+WOJaAAAAAElFTkSuQmCC\n"
          }
         ],
         "prompt_number": 608,
         "widgets": [
          {
           "linenum": "2",
           "max": "7",
           "min": "1",
           "step": "2",
           "type": "slider",
           "variable": "k"
          }
         ]
        },
        {
         "cell_type": "interactivecode",
         "collapsed": false,
         "input": "%%R\nconfus = table(true = testvals$label, pred = predvals)\nconfus2 = confus\ndiag(confus2) = 0\ninsp = 0;\nconfus2[insp+1,]\nbarplot(confus2[insp+1,], main = sprintf(\"Misclassifications of %ds by incorrect guess\", insp), ylim=c(0, 10))",
         "language": "python",
         "metadata": {},
         "outputs": [
          {
           "metadata": {},
           "output_type": "display_data",
           "png": "iVBORw0KGgoAAAANSUhEUgAAAeAAAAHgCAMAAABKCk6nAAAC7lBMVEUAAAABAQECAgIDAwMEBAQF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\n"
          }
         ],
         "prompt_number": 774,
         "widgets": [
          {
           "linenum": "4",
           "max": "9",
           "min": "0",
           "step": "1",
           "type": "slider",
           "variable": "insp"
          }
         ]
        },
        {
         "cell_type": "code",
         "collapsed": false,
         "input": "%%R\nsum(testvals$label != as.character(predvals))/nrow(testvals)",
         "language": "python",
         "metadata": {},
         "outputs": [
          {
           "metadata": {},
           "output_type": "display_data",
           "text": "[1] 0.164\n"
          }
         ],
         "prompt_number": 599
        }
       ],
       "metadata": {},
       "most_recent": true
      },
      {
       "cell_type": "alt",
       "cells": [
        {
         "cell_type": "code",
         "collapsed": false,
         "input": "%%R\nlibrary(e1071)\nmod = svm(x = train[,-1], y = as.factor(train$label), kernel = \"linear\")\nmod",
         "language": "python",
         "metadata": {},
         "outputs": [
          {
           "metadata": {},
           "output_type": "display_data",
           "text": "\nCall:\nsvm.default(x = train[, -1], y = as.factor(train$label), kernel = \"linear\")\n\n\nParameters:\n   SVM-Type:  C-classification \n SVM-Kernel:  linear \n       cost:  1 \n      gamma:  0.00127551 \n\nNumber of Support Vectors:  487\n\n"
          }
         ],
         "prompt_number": 216
        },
        {
         "cell_type": "code",
         "collapsed": false,
         "input": "%%R\npredvals = predict(mod, testvals[,-1])",
         "language": "python",
         "metadata": {},
         "outputs": [],
         "prompt_number": 217
        },
        {
         "cell_type": "code",
         "collapsed": false,
         "input": "%%R\ntable(true=testvals$label, pred = predvals)",
         "language": "python",
         "metadata": {},
         "outputs": [
          {
           "metadata": {},
           "output_type": "display_data",
           "text": "    pred\ntrue   0   1   2   3   4   5   6   7   8   9\n   0 148   0   0   1   0   0   1   0   0   0\n   1   0 146   1   2   0   1   0   0   0   0\n   2   1   1 128   1   6   0   5   4   4   0\n   3   2   0   0 134   0  10   0   1   1   2\n   4   0   0   2   0 138   1   1   0   1   7\n   5   3   2   0   4   2 135   2   0   0   2\n   6   2   1   2   1   2   1 139   0   2   0\n   7   0   0   4   0   0   1   0 133   1  11\n   8   1   5   4   6   2  11   1   1 119   0\n   9   0   0   0   3   8   1   0   5   1 132\n"
          }
         ],
         "prompt_number": 221
        },
        {
         "cell_type": "code",
         "collapsed": false,
         "input": "%%R\nsum(testvals$label != predvals) / nrow(testvals)",
         "language": "python",
         "metadata": {},
         "outputs": [
          {
           "metadata": {},
           "output_type": "display_data",
           "text": "[1] 0.09866667\n"
          }
         ],
         "prompt_number": 222
        }
       ],
       "metadata": {},
       "most_recent": false
      }
     ],
     "metadata": {}
    },
    {
     "cell_type": "markdown",
     "metadata": {},
     "source": [
      "This gives us a training data confusion matrix of "
     ]
    },
    {
     "cell_type": "code",
     "collapsed": false,
     "input": [
      "%%R\n",
      "table(truth = sampleTrain$label, preds = predict(alldigsRp, allPCDF, type = \"class\"))"
     ],
     "language": "python",
     "metadata": {},
     "outputs": [
      {
       "metadata": {},
       "output_type": "display_data",
       "text": [
        "     preds\n",
        "truth    0    1    2    3    4    5    6    7    8    9\n",
        "    0 2569    2   25   19    5   52   33   12   28   14\n",
        "    1    2 3004   22   15    3   12    8    5   18    7\n",
        "    2   44   18 2442   65   29   25   43   43   65   18\n",
        "    3   32   19   50 2512    8  114   10   25  100   32\n",
        "    4    8    9   37    3 2397   23   40   33   29  145\n",
        "    5   47   11   23   95   45 2182   47   15   63   33\n",
        "    6   37   10   54    9   20   53 2531    9   25   14\n",
        "    7    5   25   45   13   40   30    5 2605   26  104\n",
        "    8   25   25   64   87   22   84   26   23 2317   32\n",
        "    9   14   17   16   23  146   49   15   84   40 2397\n"
       ]
      }
     ],
     "prompt_number": 90
    },
    {
     "cell_type": "markdown",
     "metadata": {},
     "source": [
      "We then apply our classifier to the independent test data to get a (more or less) unbiased estimator of the misclassification rate"
     ]
    },
    {
     "cell_type": "code",
     "collapsed": false,
     "input": [
      "%%R\n",
      "allPCTest = as.matrix(test[, -1]) %*% allEigs$vectors[, 1:25]\n",
      "allTestDF = cbind.data.frame(allPCTest, label = test$label)\n",
      "alltestPreds = predict(alldigsRp, allTestDF, type = \"class\")\n",
      "table(truth = test$label, pred = alltestPreds)\n"
     ],
     "language": "python",
     "metadata": {},
     "outputs": [
      {
       "metadata": {},
       "output_type": "display_data",
       "text": [
        "     pred\n",
        "truth    0    1    2    3    4    5    6    7    8    9\n",
        "    0 1219    0   11   21    3   50   26   16   21    6\n",
        "    1    0 1526   13    7    0    8    5   10   16    3\n",
        "    2   22   18 1125   34   17   13   52   30   57   17\n",
        "    3   24   10   35 1149    4  109   10   17   69   22\n",
        "    4    6    6   24    5 1077   21   33   27   21  128\n",
        "    5   20    6   24   79   28  942   20   15   71   29\n",
        "    6   19    8   34    5   14   41 1229    4   15    6\n",
        "    7    5   19   28   17   34   19    3 1270   22   86\n",
        "    8   13   11   47   75   20   74   14   13 1054   37\n",
        "    9   16   10   14   18  120   43   12   68   33 1053\n"
       ]
      }
     ],
     "prompt_number": 91
    },
    {
     "cell_type": "markdown",
     "metadata": {},
     "source": [
      "The error rate for this is"
     ]
    },
    {
     "cell_type": "code",
     "collapsed": false,
     "input": [
      "%%R\n",
      "sum(alltestPreds != test$label)/nrow(test)"
     ],
     "language": "python",
     "metadata": {},
     "outputs": [
      {
       "metadata": {},
       "output_type": "display_data",
       "text": [
        "[1] 0.1682857\n"
       ]
      }
     ],
     "prompt_number": 92
    },
    {
     "cell_type": "altset",
     "cells": [
      {
       "cell_type": "alt",
       "cells": [
        {
         "cell_type": "code",
         "collapsed": false,
         "input": "%%R\ncvRpart3 = function(form, dat, folds = 10, depths = seq(2,30, by=2), \n    truth, verbose = TRUE, mc.cores = 2L) {\n\n    randOrder = sample(1:nrow(dat), nrow(dat))\n    subinds = cut(1:nrow(dat), folds)\n    tsets = split(randOrder, f = subinds)\n\n    errests =unlist( mclapply(depths, function(d) {\n        if (verbose) \n            print(paste(\"Testing rpart with max depth\", d))\n        errs = sapply(tsets, function(samp, dep) {\n            tr = rpart(form, data = dat[-samp, ], control = rpart.control(maxdepth=dep), \n                method = \"class\")\n            preds = predict(tr, newdata = dat[samp, ], type = \"class\")\n            sum(preds != truth[samp])/length(samp)\n        }, dep=d)\n        mean(errs)\n\n    }, mc.cores = mc.cores))\n    list(bestDepth = depths[which.min(errests)], bestErr = min(errests), allDepths = depths, \n        allErrs = errests)\n}",
         "language": "python",
         "metadata": {},
         "outputs": [],
         "prompt_number": 52
        },
        {
         "cell_type": "code",
         "collapsed": false,
         "input": "%%Rcaching --cacherandom\nsystem.time({\n    allCVres50 = cvRpart3(form = label ~ ., dat = allPCDF50, truth = sampleTrain$label, \n        folds = 6, verbose = FALSE, mc.cores = 3)\n})",
         "language": "python",
         "metadata": {},
         "outputs": [
          {
           "metadata": {},
           "output_type": "display_data",
           "text": "    user   system  elapsed \n1527.471    1.900  796.840 \n"
          }
         ],
         "prompt_number": 53
        },
        {
         "cell_type": "code",
         "collapsed": false,
         "input": "%%R\nplot(allCVres50$allDepths, allCVres50$allErrs)",
         "language": "python",
         "metadata": {},
         "outputs": [
          {
           "metadata": {},
           "output_type": "display_data",
           "png": "iVBORw0KGgoAAAANSUhEUgAAAeAAAAHgCAMAAABKCk6nAAAC+lBMVEUAAAABAQECAgIDAwMEBAQF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\n5/8A336BEwrxRagAAAAASUVORK5CYII=\n"
          }
         ],
         "prompt_number": 54
        },
        {
         "cell_type": "code",
         "collapsed": false,
         "input": "%%R\nallCVres50$bestDepth",
         "language": "python",
         "metadata": {},
         "outputs": [
          {
           "metadata": {},
           "output_type": "display_data",
           "text": "[1] 6\n"
          }
         ],
         "prompt_number": 55
        },
        {
         "cell_type": "code",
         "collapsed": false,
         "input": "%%Rcaching\nalldigsRp50 = rpart(label ~ ., allPCDF50, method = \"class\", control = rpart.control(maxdepth = allCVres50$bestDepth))\ntable(truth = sampleTrain$label, preds = predict(alldigsRp50, allPCDF50, type = \"class\"))",
         "language": "python",
         "metadata": {},
         "outputs": [
          {
           "metadata": {},
           "output_type": "display_data",
           "text": "     preds\ntruth    0    1    2    3    4    5    6    7    8    9\n    0 1877    0  196  392    1  155   45   48   41    4\n    1    0 2580  162  118    1   35   49    0  151    0\n    2  167   10 2003  267   27   71  106   22   97   22\n    3  111   16  154 2168    4  204  104   25   94   22\n    4    2   53  105   58 1656   84   50  166   56  494\n    5  161   10  286  830   86  739   80   78  225   66\n    6  174   16  342  250   30   47 1832   26   34   11\n    7    0  159   82  102   49  157   13 2212   53   71\n    8  110   16  239  283   21  310   32  137 1526   31\n    9    9  117   34   92  359  141   79  729   42 1199\n"
          }
         ],
         "prompt_number": 56
        },
        {
         "cell_type": "code",
         "collapsed": false,
         "input": "%%R\nalltestPreds50 = predict(alldigsRp50, allTestDF50, type = \"class\")\ntable(truth = test$label, pred = alltestPreds50)\n",
         "language": "python",
         "metadata": {},
         "outputs": [
          {
           "metadata": {},
           "output_type": "display_data",
           "text": "     pred\ntruth    0    1    2    3    4    5    6    7    8    9\n    0  908    0  111  201    2   81   14   29   26    1\n    1    0 1362   62   56    0   19   24    1   64    0\n    2   72    9  964  114   10   31   77   23   72   13\n    3   44   10   82 1099    2  102   45   15   40   10\n    4    1   26   49   31  831   43   22   81   21  243\n    5   73    2  140  367   40  387   40   36  114   35\n    6   81    6  192  136    9   19  903    9   13    7\n    7    0   75   28   62   33   71   10 1159   33   32\n    8   43    3  147  146   17  181   16   62  734    9\n    9    9   55   17   32  204   88   43  376   29  534\n"
          }
         ],
         "prompt_number": 57
        },
        {
         "cell_type": "code",
         "collapsed": false,
         "input": "%%R\nsum(alltestPreds50 != test$label)/nrow(test)",
         "language": "python",
         "metadata": {},
         "outputs": [
          {
           "metadata": {},
           "output_type": "display_data",
           "text": "[1] 0.3656429\n"
          }
         ],
         "prompt_number": 58
        },
        {
         "cell_type": "code",
         "collapsed": false,
         "input": "",
         "language": "python",
         "metadata": {},
         "outputs": []
        }
       ],
       "metadata": {},
       "most_recent": true
      },
      {
       "cell_type": "alt",
       "cells": [
        {
         "cell_type": "code",
         "collapsed": false,
         "input": "",
         "language": "python",
         "metadata": {},
         "outputs": []
        }
       ],
       "metadata": {},
       "most_recent": false
      }
     ],
     "metadata": {}
    }
   ],
   "metadata": {}
  }
 ]
}