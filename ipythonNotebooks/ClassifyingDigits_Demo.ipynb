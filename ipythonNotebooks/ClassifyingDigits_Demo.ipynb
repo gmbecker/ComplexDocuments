{
 "metadata": {
  "name": ""
 },
 "nbformat": 3,
 "nbformat_minor": 0,
 "worksheets": [
  {
   "cells": [
    {
     "cell_type": "code",
     "collapsed": false,
     "input": [
      "%load_ext rmagic"
     ],
     "language": "python",
     "metadata": {},
     "outputs": [
      {
       "output_type": "stream",
       "stream": "stdout",
       "text": [
        "The rmagic extension is already loaded. To reload it, use:\n",
        "  %reload_ext rmagic\n"
       ]
      }
     ],
     "prompt_number": 43
    },
    {
     "cell_type": "code",
     "collapsed": false,
     "input": [
      "%%R\n",
      "set.seed(1500)\n",
      "source(\"DigitFuns.R\")"
     ],
     "language": "python",
     "metadata": {},
     "outputs": [],
     "prompt_number": 44
    },
    {
     "cell_type": "code",
     "collapsed": false,
     "input": [
      "%%Rcaching --cacherandom\n",
      "train = load_train_data(100)\n",
      "testvals = load_test_data(100)\n",
      "testTruth = testvals$label"
     ],
     "language": "python",
     "metadata": {},
     "outputs": [],
     "prompt_number": 45
    },
    {
     "cell_type": "markdown",
     "metadata": {
      "dyndocmodel": {
       "detail": 2
      }
     },
     "source": [
      "We first look at a single digit's worth of data to make sure we understand what the data represents (the first digit happens to be a 9)."
     ]
    },
    {
     "cell_type": "code",
     "collapsed": false,
     "input": [
      "%%R\n",
      "onedig = as.numeric(train[min(which(train$label==9)),-1])\n",
      "onedigmat = matrix(onedig, nrow=28)\n",
      "image(onedigmat)"
     ],
     "language": "python",
     "metadata": {
      "dyndocmodel": {
       "detail": 3
      }
     },
     "outputs": [
      {
       "metadata": {},
       "output_type": "display_data",
       "png": "[encoded data removed]"
      }
     ],
     "prompt_number": 12
    },
    {
     "cell_type": "markdown",
     "metadata": {
      "dyndocmodel": {
       "detail": 3
      }
     },
     "source": [
      "We can see that it is in fact a 9, but that the orientation is not correct. We need to rotate the image in order to have it accurately reflect what was drawn."
     ]
    },
    {
     "cell_type": "markdown",
     "metadata": {
      "dyndocmodel": {
       "detail": 2
      }
     },
     "source": [
      "By multiplying our data matrix by the correct rotation matrix we are able to get the image to draw correctly."
     ]
    },
    {
     "cell_type": "code",
     "collapsed": false,
     "input": [
      "%%R\n",
      "rotmat = diag(rep(1, times=28))[28:1,]\n",
      "newmat = onedigmat%*%rotmat\n",
      "image(newmat)"
     ],
     "language": "python",
     "metadata": {
      "dyndocmodel": {
       "detail": 2
      }
     },
     "outputs": [
      {
       "metadata": {},
       "output_type": "display_data",
       "png": "[encoded data removed]"
      }
     ],
     "prompt_number": 13
    },
    {
     "cell_type": "altset",
     "cells": [
      {
       "cell_type": "alt",
       "cells": [
        {
         "cell_type": "markdown",
         "metadata": {},
         "source": "Recursive partition trees (on Principal Components)"
        },
        {
         "cell_type": "code",
         "collapsed": false,
         "input": "%%R\nallEigs = eigen(var(as.matrix(train[, -1])))\npcDatAll = as.matrix(train[, -1]) %*% allEigs$vectors[, 1:25]\n\nallPCDF = cbind.data.frame(pcDatAll, label = train$label)\ntestPC = as.matrix(testvals[,-1]) %*% allEigs$vectors[,1:25]\ntestPCDF = as.data.frame(testPC)\nnames(testPCDF) =  1:25",
         "language": "python",
         "metadata": {},
         "outputs": [],
         "prompt_number": 65
        },
        {
         "cell_type": "code",
         "collapsed": false,
         "input": "%%R\nalldigsRp = rpart(label ~ ., allPCDF, method = \"class\", control = rpart.control( cp=.0001))\npredvals = predict(alldigsRp, as.data.frame(testPCDF), type=\"class\")\ntmp = plot(alldigsRp)",
         "language": "python",
         "metadata": {},
         "outputs": [
          {
           "metadata": {},
           "output_type": "display_data",
           "png": "iVBORw0KGgoAAAANSUhEUgAAAeAAAAHgCAMAAABKCk6nAAACT1BMVEUiIiIlJSUmJiYoKCgpKSkq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\n"
          }
         ],
         "prompt_number": 67
        }
       ],
       "metadata": {},
       "most_recent": true
      },
      {
       "cell_type": "alt",
       "cells": [
        {
         "cell_type": "markdown",
         "metadata": {},
         "source": "k-Nearest Neighbors"
        },
        {
         "cell_type": "code",
         "collapsed": false,
         "input": "%%Rcaching\ndistmat = as.matrix(dist(rbind(testvals[,-1], train[,-1])))[1:nrow(testvals), -(1:nrow(testvals))]",
         "language": "python",
         "metadata": {},
         "outputs": [],
         "prompt_number": 55
        },
        {
         "cell_type": "interactivecode",
         "collapsed": false,
         "input": "%%R\nk = 9;\npredvals = doKNN(train[,-1], truthTrain = train$label, testvals[,-1], k=k, distMat = distmat)\nerrs = getRates(predvals, testvals$label)\nbarplot(errs$rel_dig, main = sprintf(\"Misclassifications by true digit for k = %d\", k), \n    sub = sprintf(\"Overall misclassification rate: %f\", errs$overall), ylim = c(0, .35))",
         "language": "python",
         "metadata": {},
         "outputs": [
          {
           "metadata": {},
           "output_type": "display_data",
           "png": "iVBORw0KGgoAAAANSUhEUgAAAeAAAAHgCAMAAABKCk6nAAAC+lBMVEUAAAABAQECAgIDAwMEBAQF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\nIFhwIFhw/h84fZKzZnyFVgAAAABJRU5ErkJggg==\n"
          }
         ],
         "prompt_number": 64,
         "widgets": [
          {
           "linenum": "1",
           "max": "11",
           "min": "1",
           "step": "2",
           "type": "slider",
           "variable": "k"
          }
         ]
        }
       ],
       "metadata": {},
       "most_recent": false
      },
      {
       "cell_type": "alt",
       "cells": [
        {
         "cell_type": "markdown",
         "metadata": {},
         "source": "Support vector machines"
        },
        {
         "cell_type": "altset",
         "cells": [
          {
           "cell_type": "alt",
           "cells": [
            {
             "cell_type": "code",
             "collapsed": false,
             "input": "%%R\nkernel = \"linear\"",
             "language": "python",
             "metadata": {},
             "outputs": [],
             "prompt_number": 46
            }
           ],
           "metadata": {},
           "most_recent": true
          },
          {
           "cell_type": "alt",
           "cells": [
            {
             "cell_type": "code",
             "collapsed": false,
             "input": "%%R\nkernel = \"polynomial\"",
             "language": "python",
             "metadata": {},
             "outputs": []
            }
           ],
           "metadata": {},
           "most_recent": false
          },
          {
           "cell_type": "alt",
           "cells": [
            {
             "cell_type": "code",
             "collapsed": false,
             "input": "%%R\nkernel = \"sigmoid\"",
             "language": "python",
             "metadata": {},
             "outputs": [],
             "prompt_number": 22
            }
           ],
           "metadata": {},
           "most_recent": false
          }
         ],
         "metadata": {}
        },
        {
         "cell_type": "code",
         "collapsed": false,
         "input": "%%R\nmod = svm(x = train[,-1], y = as.factor(train$label), kernel = kernel)\nmod",
         "language": "python",
         "metadata": {},
         "outputs": [
          {
           "metadata": {},
           "output_type": "display_data",
           "text": "\nCall:\nsvm.default(x = train[, -1], y = as.factor(train$label), kernel = kernel)\n\n\nParameters:\n   SVM-Type:  C-classification \n SVM-Kernel:  linear \n       cost:  1 \n      gamma:  0.00127551 \n\nNumber of Support Vectors:  601\n\n"
          }
         ],
         "prompt_number": 47
        },
        {
         "cell_type": "code",
         "collapsed": false,
         "input": "%%R\npredvals = predict(mod, testvals[,-1])",
         "language": "python",
         "metadata": {},
         "outputs": [],
         "prompt_number": 48
        }
       ],
       "metadata": {},
       "most_recent": false
      }
     ],
     "metadata": {}
    },
    {
     "cell_type": "markdown",
     "metadata": {},
     "source": [
      "This gives us a confusion matrix of"
     ]
    },
    {
     "cell_type": "code",
     "collapsed": false,
     "input": [
      "%%R\n",
      "table(true = testTruth, pred = predvals)"
     ],
     "language": "python",
     "metadata": {},
     "outputs": [
      {
       "metadata": {},
       "output_type": "display_data",
       "text": [
        "    pred\n",
        "true  0  1  2  3  4  5  6  7  8  9\n",
        "   0 75  0  2  4  0 11  2  0  6  0\n",
        "   1  0 84  0  4  0  0  6  4  2  0\n",
        "   2  4  2 64  9  5  1  3  0  7  5\n",
        "   3  3  1  6 63  2 11  1  2  5  6\n",
        "   4  0  0 14  1 55  1  3  5  1 20\n",
        "   5  6  0  9 11  4 59  1  6  1  3\n",
        "   6  1  1  7  1  6  2 77  0  5  0\n",
        "   7  2  2  6  1 10  1  1 65  0 12\n",
        "   8  0  0  2  7  3 16  5  3 57  7\n",
        "   9  0  0  1  3  8  2  2 16  0 68\n"
       ]
      }
     ],
     "prompt_number": 53
    },
    {
     "cell_type": "markdown",
     "metadata": {},
     "source": [
      "And an overall error rate of"
     ]
    },
    {
     "cell_type": "code",
     "collapsed": false,
     "input": [
      "%%R\n",
      "getRates(predvals, testTruth)$overall"
     ],
     "language": "python",
     "metadata": {},
     "outputs": [
      {
       "metadata": {},
       "output_type": "display_data",
       "text": [
        "[1] 0.333\n"
       ]
      }
     ],
     "prompt_number": 54
    },
    {
     "cell_type": "code",
     "collapsed": false,
     "input": [],
     "language": "python",
     "metadata": {},
     "outputs": []
    }
   ],
   "metadata": {}
  }
 ]
}