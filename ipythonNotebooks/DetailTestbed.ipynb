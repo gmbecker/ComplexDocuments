{
 "metadata": {
  "name": ""
 },
 "nbformat": 3,
 "nbformat_minor": 0,
 "worksheets": [
  {
   "cells": [
    {
     "cell_type": "markdown",
     "metadata": {
      "dyndocmodel": {
       "detail": 2
      }
     },
     "source": [
      "That's some hidden stuff, yo!"
     ]
    },
    {
     "cell_type": "task",
     "cells": [
      {
       "cell_type": "code",
       "collapsed": false,
       "input": "print(\"this some real code, yo\")",
       "language": "python",
       "metadata": {},
       "outputs": [
        {
         "output_type": "stream",
         "stream": "stdout",
         "text": "this some real code, yo\n"
        }
       ],
       "prompt_number": 26
      },
      {
       "cell_type": "markdown",
       "metadata": {},
       "source": "stuff"
      },
      {
       "cell_type": "code",
       "collapsed": false,
       "input": "print(\"deep hiding\")",
       "language": "python",
       "metadata": {
        "dyndocmodel": {
         "detail": 3
        }
       },
       "outputs": [
        {
         "output_type": "stream",
         "stream": "stdout",
         "text": "deep hiding\n"
        }
       ],
       "prompt_number": 17
      },
      {
       "cell_type": "code",
       "collapsed": false,
       "input": "",
       "language": "python",
       "metadata": {},
       "outputs": []
      }
     ],
     "metadata": {}
    },
    {
     "cell_type": "code",
     "collapsed": false,
     "input": [],
     "language": "python",
     "metadata": {},
     "outputs": []
    }
   ],
   "metadata": {}
  }
 ]
}