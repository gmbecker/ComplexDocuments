{
 "metadata": {
  "name": ""
 },
 "nbformat": 3,
 "nbformat_minor": 0,
 "worksheets": [
  {
   "cells": [
    {
     "cell_type": "heading",
     "level": 1,
     "metadata": {},
     "source": [
      "Brainstorm of cell types and attributes"
     ]
    },
    {
     "cell_type": "markdown",
     "metadata": {},
     "source": [
      "We need a rich way of describing situation/context/behavior/content of elements within a dynamic document. This will be done through the combination of element \"classes\" and element attributes. Classes indicate the content type of the element in broad strokes (prose, text, or structural feature), as well as potentially some non-optional details (language of code, format of prose). Attributes, on the other hand, provide more nuanced or optional information and instructions, such as whether/when the contents of a code element should be runand where a piece of prose constitutes an out-of-stream note which should be processed or rendered differently than traditional prose.\n",
      "\n",
      "In this document I will compile a list of attributes intended to provide a rich but parsimonious interface natively supported by DynDocModel. The package should be designed so that custom attributes can also be supported."
     ]
    },
    {
     "cell_type": "heading",
     "level": 2,
     "metadata": {},
     "source": [
      "General Attributes"
     ]
    },
    {
     "cell_type": "markdown",
     "metadata": {},
     "source": [
      "+ **aside** - Indicates that the content of the element is not part of the essential content or primary narrative of any thread. This includes notes, throw-away computations, pedagogical  question/answer content, messages to reviewers, etc. This content will not be run/rendered during default processing. This can take numerious values (\"note\", \"question-answer\", \"pedagogy\"), and the attribute can contain more than one of them if desired.. See also **detail** below, which is a different, more document oriented take on this concept.\n",
      "+ **detail** - (Positive integer) Indicates the level of detail contained in the element, for use in easily generating differentiated views of the same document by detail level. Elements with no detail level specified are treated as level one. When processing a document a detail level can be specified, with only elements with levels less than or equal to the specified level are processed and rendered into the view (default being 1).\n",
      "+ **unfinished** - Indicates the element contains an unfinished discussion, implementation, or pursuit of an idea or strategy. **FALSE** is ignored."
     ]
    },
    {
     "cell_type": "heading",
     "level": 2,
     "metadata": {},
     "source": [
      "Code Element Attributes"
     ]
    },
    {
     "cell_type": "markdown",
     "metadata": {},
     "source": [
      "+ **eval** - Instructions about when to run the contents of a code element. **FALSE** indicates that the contents should never be run (this will be overridable via the running interface). **TRUE** indicates default behavior and is unnecessary. It is possible that we might want other values for this as well, though many of these can likely be handled with separate attributes (such as the aside and detail attributes indicating that the computation is part of the thread but not necessary)\n",
      "+ **error** - **TRUE** Indicates that the code, when run within a thread starting at the beginning of the document, is expected to raise an error. When **TRUE** this will prevent evaluation or processing of the code  **FALSE** is ignored as it indicates default behavior.\n",
      "+ **assertions** (how useful are these?)\n",
      "    + **out_class** - assert the final return value for the codeblock should be a certain class processing would throw a warning or error if this assertion is not met, with the expectation that the code is likely to fail\n",
      "    + **in_var_class** - assert that for the code to be run, a variable must exist and be of a particular class. processing would avoid running the code element if this assertion is not met, and optionally throw an error\n",
      "+ **random** - Explicitly declares whether the calculations defined in the code are random in nature. Unspecified indicates that the processing call should use any randomness-detection mechanisms available (or assume non-randomness if no such mechanisms are offere). **DynDocModel** does have built-in heuristic randomness testing, which is overridden by the value of this attribute.\n",
      "+ **cache** - If **FALSE**, indicates that caching should *never* be used for this element. If **TRUE**, caching should *always* be used for this element. If not specified, caching behavior is defined by individual call to process the document (default for **DynDocModel** is to use caching unless randomness is detected or declared).\n"
     ]
    },
    {
     "cell_type": "heading",
     "level": 2,
     "metadata": {},
     "source": [
      "Structural Element Attributes"
     ]
    },
    {
     "cell_type": "markdown",
     "metadata": {},
     "source": [
      "+ **parallel** - If **TRUE**, indicates that the direct children of this element (typically branch or task elements themselves) are safe to run in parallel. If attribute is set to **TRUE** on a *BranchSet* element, it also indicates that all branches (which qualify in terms of detail/aside level) should be run in every thread passing through the *BranchSet*\n",
      "+ **not_implemented** (*Branch* or *Task* elements only) - If **TRUE**, indicates that the element describes an approach or strategy which is not currently implemented in the document. When on a *Branch* element, indicates that the branch cannot be traversed as a non-terminal element in any thread through the document.\n",
      "+ **meta_type** - Tag which associates purely semantic information with the element. Examples: \"modelling\", \"model diagnostics\", \"benchmarking\", \"simulation\", \"EDA\", \"inference\", \"prediction\", \"data cleaning\"\n",
      "+ **terminal** (*Branch* elements only) - If **TRUE**, indicates that the code in the branch is fully implemented and works, but produces output variables incompatible with code downstream from the *BranchSet* the branch appears in. Threads which visit a terminal branch as anything but the final visited element are assumed to be invalid (and are disallowed by default)."
     ]
    },
    {
     "cell_type": "code",
     "collapsed": false,
     "input": [],
     "language": "python",
     "metadata": {},
     "outputs": []
    }
   ],
   "metadata": {}
  }
 ]
}