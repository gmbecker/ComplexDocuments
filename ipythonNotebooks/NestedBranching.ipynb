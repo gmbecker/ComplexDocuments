{
 "metadata": {
  "name": ""
 },
 "nbformat": 3,
 "nbformat_minor": 0,
 "worksheets": [
  {
   "cells": [
    {
     "cell_type": "code",
     "collapsed": false,
     "input": [
      "%load_ext rmagic"
     ],
     "language": "python",
     "metadata": {},
     "outputs": [],
     "prompt_number": 2
    },
    {
     "cell_type": "code",
     "collapsed": false,
     "input": [
      "%%R\n",
      "set.seed(0)"
     ],
     "language": "python",
     "metadata": {},
     "outputs": [],
     "prompt_number": 3
    },
    {
     "cell_type": "altset",
     "cells": [
      {
       "cell_type": "alt",
       "cells": [
        {
         "cell_type": "markdown",
         "metadata": {},
         "source": "Here is my first branch"
        },
        {
         "cell_type": "altset",
         "cells": [
          {
           "cell_type": "alt",
           "cells": [
            {
             "cell_type": "code",
             "collapsed": false,
             "input": "%%R\nx = rnorm(50)",
             "language": "python",
             "metadata": {},
             "outputs": [],
             "prompt_number": 11
            }
           ],
           "metadata": {},
           "most_recent": false
          },
          {
           "cell_type": "alt",
           "cells": [
            {
             "cell_type": "code",
             "collapsed": false,
             "input": "%%R\nx = rnorm(50, sd=.5)",
             "language": "python",
             "metadata": {},
             "outputs": [],
             "prompt_number": 4
            }
           ],
           "metadata": {},
           "most_recent": true
          }
         ],
         "metadata": {}
        },
        {
         "cell_type": "markdown",
         "metadata": {},
         "source": "wooo"
        }
       ],
       "metadata": {},
       "most_recent": false
      },
      {
       "cell_type": "alt",
       "cells": [
        {
         "cell_type": "markdown",
         "metadata": {},
         "source": "Second Branch"
        },
        {
         "cell_type": "altset",
         "cells": [
          {
           "cell_type": "alt",
           "cells": [
            {
             "cell_type": "code",
             "collapsed": false,
             "input": "%%R\nx = runif(50)",
             "language": "python",
             "metadata": {},
             "outputs": [],
             "prompt_number": 9
            }
           ],
           "metadata": {},
           "most_recent": true
          },
          {
           "cell_type": "alt",
           "cells": [
            {
             "cell_type": "code",
             "collapsed": false,
             "input": "%%R\nx = runif(50, -1, 1)^2",
             "language": "python",
             "metadata": {},
             "outputs": [],
             "prompt_number": 19
            },
            {
             "cell_type": "code",
             "collapsed": false,
             "input": "%%R\nmean(x)",
             "language": "python",
             "metadata": {},
             "outputs": [
              {
               "metadata": {},
               "output_type": "display_data",
               "text": "[1] 0.3539058\n"
              }
             ],
             "prompt_number": 20
            }
           ],
           "metadata": {},
           "most_recent": false
          }
         ],
         "metadata": {}
        },
        {
         "cell_type": "markdown",
         "metadata": {},
         "source": "woo2"
        }
       ],
       "metadata": {},
       "most_recent": true
      }
     ],
     "metadata": {}
    },
    {
     "cell_type": "markdown",
     "metadata": {},
     "source": [
      "some more stuff"
     ]
    },
    {
     "cell_type": "altset",
     "cells": [
      {
       "cell_type": "alt",
       "cells": [
        {
         "cell_type": "markdown",
         "metadata": {},
         "source": "Hello again from set2branch1"
        },
        {
         "cell_type": "code",
         "collapsed": false,
         "input": "%%R\ny = rnorm(50, -x, .3)",
         "language": "python",
         "metadata": {},
         "outputs": [],
         "prompt_number": 13
        }
       ],
       "metadata": {},
       "most_recent": false
      },
      {
       "cell_type": "alt",
       "cells": [
        {
         "cell_type": "markdown",
         "metadata": {},
         "source": "I'm in set2branch2"
        },
        {
         "cell_type": "code",
         "collapsed": false,
         "input": "%%R\ny = rnorm(50, x, .3)",
         "language": "python",
         "metadata": {},
         "outputs": [],
         "prompt_number": 10
        }
       ],
       "metadata": {},
       "most_recent": true
      }
     ],
     "metadata": {}
    },
    {
     "cell_type": "code",
     "collapsed": false,
     "input": [
      "%%R\n",
      "plot(x,y)"
     ],
     "language": "python",
     "metadata": {},
     "outputs": [
      {
       "metadata": {},
       "output_type": "display_data",
       "png": "[encoded data removed]"
      }
     ],
     "prompt_number": 11
    },
    {
     "cell_type": "code",
     "collapsed": false,
     "input": [
      "%%R\n",
      "mean(x+y)"
     ],
     "language": "python",
     "metadata": {},
     "outputs": [
      {
       "metadata": {},
       "output_type": "display_data",
       "text": [
        "[1] 0.03035275\n"
       ]
      }
     ],
     "prompt_number": 7
    },
    {
     "cell_type": "code",
     "collapsed": false,
     "input": [],
     "language": "python",
     "metadata": {},
     "outputs": []
    }
   ],
   "metadata": {}
  }
 ]
}