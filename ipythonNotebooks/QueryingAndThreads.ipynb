{
 "metadata": {
  "name": ""
 },
 "nbformat": 3,
 "nbformat_minor": 0,
 "worksheets": [
  {
   "cells": [
    {
     "cell_type": "heading",
     "level": 1,
     "metadata": {},
     "source": [
      "Querying and Declaring Threads"
     ]
    },
    {
     "cell_type": "markdown",
     "metadata": {},
     "source": [
      "The ability to both select elements out of document individually and select paths or threads through a branching document are key to our computational model for interacting with dynamic documents. In this document I will investigate the ways in which these tasks can be described, the types of tools necessary to achieve them, and how those tools might be implemented."
     ]
    },
    {
     "cell_type": "heading",
     "level": 2,
     "metadata": {},
     "source": [
      "Selecting elements"
     ]
    },
    {
     "cell_type": "markdown",
     "metadata": {},
     "source": [
      "We will select elements from a dynamic document both by position and by meeting criteria. The first is roughly equivalent to subsetting a list, while the second is akin to the getNodeSet function in XML, where the criteria in that case are described by the xpath expression passed to the the function.\n"
     ]
    },
    {
     "cell_type": "markdown",
     "metadata": {
      "dyndocmodel": {
       "note": "True"
      }
     },
     "source": [
      "Note: I don't have internet access right now, look into list-walking capabilities in R/Rpackages and look again at the jpath implmentation and how easy it be to get rpath up and running if we only allow forward movement (no parent/ancestor axis direction) for general \"listlike\" R objects"
     ]
    },
    {
     "cell_type": "code",
     "collapsed": false,
     "input": [],
     "language": "python",
     "metadata": {},
     "outputs": []
    }
   ],
   "metadata": {}
  }
 ]
}