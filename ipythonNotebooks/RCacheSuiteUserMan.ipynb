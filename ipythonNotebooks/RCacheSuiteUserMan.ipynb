{
 "metadata": {
  "name": ""
 },
 "nbformat": 3,
 "nbformat_minor": 0,
 "worksheets": [
  {
   "cells": [
    {
     "cell_type": "code",
     "collapsed": false,
     "input": [
      "%load_ext rmagic"
     ],
     "language": "python",
     "metadata": {},
     "outputs": [],
     "prompt_number": 1
    },
    {
     "cell_type": "heading",
     "level": 1,
     "metadata": {},
     "source": [
      "The RCacheSuite Package: Dependency- and State-aware Caching "
     ]
    },
    {
     "cell_type": "markdown",
     "metadata": {},
     "source": [
      "This document will describe the motivations, functionality, and design of the RCacheSuite R package. We take a high-level approach here; readers interested in detailed discussions of specific behaviors are referred to the package's documentation."
     ]
    },
    {
     "cell_type": "heading",
     "level": 3,
     "metadata": {},
     "source": [
      "Averting the Doom of Repeating the Past (Evaluations)"
     ]
    },
    {
     "cell_type": "markdown",
     "metadata": {},
     "source": [
      "Sometimes R code takes a long time to run. This is true when the code is run directly in an interactive R session as well as when it is run during the processing of a dynamic document."
     ]
    },
    {
     "cell_type": "markdown",
     "metadata": {},
     "source": [
      "Caching is the process of saving the results of running (R) code and reusing those results in the future instead of rerunning the code. This allows users needing to repeatedly run code (such as those iteratively building or modifying dynamic documents, for example) to gain massive speedups, assuming that the cached results are only used in cases when the output will actually be the same."
     ]
    },
    {
     "cell_type": "markdown",
     "metadata": {},
     "source": [
      "There are numerous existing packages in R that provide caching of one form or another, including **knitr**, **weaver**, **cacher**, **cacheSweave**, **memoize**, **R.cache**, and **Biobase**. These packages offer caching in the context of specific dynamic document formats (**knitr**, **weaver**, **cacheSweave**), full data analyses with a focus on distribution (**cacher**), R function calls (**memoize**, **R.cache**), and individual R expressions being evaluated (**Biobase**).\n",
      "\n",
      "So why create another new package that ostensibly provides the same functionality? It comes down to the ability to cache the output of a single code block for multiple evaluation states, as well as providing a functional, standardized and easy to use API for caching that can be used anywhere R code is being evaluated."
     ]
    },
    {
     "cell_type": "heading",
     "level": 3,
     "metadata": {},
     "source": [
      "Caching the Garden of Forking Paths"
     ]
    },
    {
     "cell_type": "markdown",
     "metadata": {},
     "source": [
      "The creation of the **RCacheSuite** package was largely motivated by my research (joint with my advisor Duncan Temple Lang and Deborah Nolan) in non-linear documents. The concept, briefly, is documents which can represent the forking, non-linear structure of how data analyses are performed in practice, including the confirmatory asides, initial or alternative methods which didn't work, etc.\n",
      "\n",
      "A key feature of these non-linear documents is that there are multiple linear execution paths, or threads, through the document. These represent different views of (subsets) of what was or could have been done. \n",
      "\n",
      "In the context of caching results, the main consequence of these multiple threads through the document is that some pieces of code within the document will need to be evaluated using different values of the (input) variables used by the code during the processing of different threads. Unlike with linear documents, this can occur even if all the code in the document is entirely non-random and the code as well as any files/libraries/data used by it remain unchanged.\n",
      "\n",
      "This multiplicity of evaluation states directly contravenes the conceptual model in use by existing dynamic document and general expression-based caching mechanisms in R. The model in place there, which is reasonable for linear documents, assumes that the output from evaluating a piece of (non-random) code is constant (and thus cacheable) so long as any *code* in the document which affects the variables used by the code block remains unchanged.\n",
      "\n",
      "The assumption of a linear document (or a linear series of expressions) with code-only based dependencies made by existing caching mechanisms lead them to implement a system where there is a one-to-one correspondence between expressions/code blocks and caches. When a cache is determined to be \"dirty\" (ie the code needs to be re-evaluated) due to a change in the code of its dependencies, it is assumed those changes represent a premanent alteration to the documentt and the cache corresponding to the code is overwritten using new results generated from the re-evaluation of the code. (if the code in the block itself changes, the old cache won't even be recognized, as lookup is based on a hash of the code)\n",
      "\n",
      "There are situations, even in linear documents, where this assumption of only needing to store one cache per block of code is troublesome, but by and large it seems to address the intended use-cases well. It is entirely crippling, however, in the context of non-linear documents."
     ]
    },
    {
     "cell_type": "heading",
     "level": 3,
     "metadata": {},
     "source": [
      "Don't Judge a Variable by its Name"
     ]
    },
    {
     "cell_type": "markdown",
     "metadata": {},
     "source": [
      "Caching for non-linear documents requires the ability to have multiple sets of cached values for a single code block, and the ability to determine which (if any) such sets should be used in a particular situation. This precludes the code-only based caching mechanisms implemented in most caching methods (other than those based on function memoization) and suggests an input-value based approach similar to the function memoization implementations. \n",
      "\n",
      "**RCacheSuite**'s caching mechanism is based (at separate levels) on both the parsed code in question and the current, serialized values of all variables used by the code without first being defined (\"global\" or \"input\" variables). This hierarchy is illustrated in the image below:\n",
      "\n",
      "<img src=\"./files/CacheDiagram.svg\" height=\"500px\" width=\"500px\"/>\n",
      "\n",
      "This allows **RCacheSuite** to differentiate between two evaluations of the same code which occur during the execution of different threads through the same (unchanged) document, a task that is not supported or easily achieved in existing caching mechanisms\n"
     ]
    },
    {
     "cell_type": "heading",
     "level": 3,
     "metadata": {},
     "source": [
      "The Universal Imperative (of Caching)"
     ]
    },
    {
     "cell_type": "markdown",
     "metadata": {},
     "source": [
      "The ability to cache results and avoid costly re-evaluation of expressions or code is broadly useful beyond a single situation or file format. Many existing caching solutions in R, however, are narrowly designed to serve a particular situation or dynamic document system (**knitr**, **weaver**, **cacheSweave**, **cacher**), rather than to provide a general solution applicable to current and future caching needs.\n",
      "\n",
      "We take the opposite approach, seeking to provide a general, flexible, and customizable low-level caching mechanism which can be used in nearly any context. In particular, **RCacheSuite** has been designed to be painlessly applied in any situation or code-base where code or R expressions are being evaluated via a function call. This is true regardless of whether the standard (a combination of *parse* and *eval*) or nonstandard (*withVisible*, or the *evaluate* function provided by Wickham's **evaluate** package) evaluation mechanisms are used. "
     ]
    },
    {
     "cell_type": "heading",
     "level": 3,
     "metadata": {},
     "source": [
      "Providing a Caching Mechanism which can be Used in Existing and Future Code"
     ]
    },
    {
     "cell_type": "markdown",
     "metadata": {},
     "source": [
      "There are two major user-facing components to the design of **RCacheSuite**, the *CachingEngine* reference class and the *evalWithCache* function.\n",
      "\n",
      "The *CachingEngine* class represents a top-level collection of sets of cached results. Typically this corresponds to a directory on the machine the evaluation is taking place on, though **RCacheSuite** does support in-memory only caching so this need not be the case.\n",
      "\n",
      "The *evalWithCache* function performs the task of accepting a piece of code and determining whether a set of cached results matches the combination of code and current evaluation state. If such a cache is found, the results are loaded into the specified evaluation environment and if not the code is evaluated (and typically a new cache is created).\n",
      "\n",
      "At at its most basic the function can be invoked as follows to perform cached evaluation:"
     ]
    },
    {
     "cell_type": "code",
     "collapsed": false,
     "input": [
      "%%R\n",
      "library(RCacheSuite)\n",
      "res = evalWithCache(\"x = 5; y = x+7;y\")"
     ],
     "language": "python",
     "metadata": {},
     "outputs": [
      {
       "metadata": {},
       "output_type": "display_data",
       "text": [
        "Loading required package: CodeDepends\n",
        "Loading required package: digest\n",
        "[1] 12\n"
       ]
      }
     ],
     "prompt_number": 2
    },
    {
     "cell_type": "code",
     "collapsed": false,
     "input": [
      "%%R\n",
      "evalWithCache(\"x = 5; y = x+7;y\", verbose=TRUE)"
     ],
     "language": "python",
     "metadata": {},
     "outputs": [
      {
       "metadata": {},
       "output_type": "display_data",
       "text": [
        "\n",
        "Existing cache found: ed78bebe531b0edbb0ea888e7c47cace db41907f4f43686fe19edc3d7eb61082 \n",
        "[1] 12\n"
       ]
      }
     ],
     "prompt_number": 3
    },
    {
     "cell_type": "markdown",
     "metadata": {},
     "source": [
      "The full range of *evalWithCache*'s behavior, however, is significantly more nuanced and flexible than this."
     ]
    },
    {
     "cell_type": "heading",
     "level": 3,
     "metadata": {},
     "source": [
      "Caching in all the Colors of the Rainbow"
     ]
    },
    {
     "cell_type": "markdown",
     "metadata": {},
     "source": [
      "The caching mechanism in **RCacheSuite** is fully customizable. Developers calling *evalWithCache* from their own code can use a custom *CachingEngine* object to control:\n",
      "\n",
      "* The function used to perform code evaluation ( *eval_fun* argument of *evalWithCache*, defaults to *cache\\$eval_fun*)\n",
      "\n",
      "* The function used to process the return value of the evaluation function (*return_handler* argument of *evalWithCache*, defaults to cache\\$return_handler)\n",
      "\n",
      "* When, if ever, the resulting set of cached values should be written to disk (*cache\\$write_allowed*, *cache\\$write_on_cache*)"
     ]
    },
    {
     "cell_type": "code",
     "collapsed": false,
     "input": [],
     "language": "python",
     "metadata": {},
     "outputs": []
    }
   ],
   "metadata": {}
  }
 ]
}