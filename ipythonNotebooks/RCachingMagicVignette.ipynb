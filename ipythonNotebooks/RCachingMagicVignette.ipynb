{
 "metadata": {
  "name": ""
 },
 "nbformat": 3,
 "nbformat_minor": 0,
 "worksheets": [
  {
   "cells": [
    {
     "cell_type": "code",
     "collapsed": false,
     "input": [
      "%load_ext rmagic"
     ],
     "language": "python",
     "metadata": {},
     "outputs": [],
     "prompt_number": 1
    },
    {
     "cell_type": "markdown",
     "metadata": {},
     "source": [
      "The standard rmagic extension that (currently) ships with IPython has a cell-level magic, invoked via %%R which treats an entire code cell (other than the magic invoking line) as R code.\n",
      "\n",
      "This allows us to author fully R-based notebooks with minimal (though not nonexistant) annoyance.\n",
      "\n",
      "A toy example is found below.\n",
      "\n",
      "Note that the final value prints as it would in other R-based computing environments (this feature/fix was added in an accepted pull request by me)."
     ]
    },
    {
     "cell_type": "code",
     "collapsed": false,
     "input": [
      "%%R\n",
      "x=1:5\n",
      "x"
     ],
     "language": "python",
     "metadata": {},
     "outputs": [
      {
       "metadata": {},
       "output_type": "display_data",
       "text": [
        "[1] 1 2 3 4 5\n"
       ]
      }
     ],
     "prompt_number": 2
    },
    {
     "cell_type": "markdown",
     "metadata": {},
     "source": [
      "Many times during real data analyses, however, certain computations will be quite time consuming and we don't necessarily want to rerun this code whenever we run the document if we can be sure the outcome won't change\n",
      "\n",
      "The %%Rcaching magic (not currently shipped with IPython) addresses this by leveraging the RCacheSuite package to perform variable dependency-based caching evaluation of R code.\n",
      "\n",
      "By this we mean that the code is evaluated using the evalWithCache function in RCacheSuite.\n",
      "\n",
      "A toy example is found below. To see the %%Rcaching magic used \"in production\" see the ClassifyingDigits.ipynb notebook in this repository.\n",
      "\n",
      "The code below depends on the variable x defined in the cell above. This means that when the cell is executed, the caching engine (an automatically created CachingEngine R object pointed at the r_caching directory which is shared within the current notebook) looks for an existing cache which matches both the code being evaluated AND the current value of the variable x. If such a cache is found, its contents are loaded and returned without evaluating the code. If no cache is found the code is evaluated and if no randomness is detected (.RandomSeed doesn't change) a new cache is created.den\n",
      "\n",
      "Identification of the input and output variables (those used without first being created within the code, and those modified created or modified within the code, respectively) is done via automatically by RCacheSuite, which leverages the CodeDepends package.\n",
      "\n",
      "For the code below, the first time it is run in a particular directory, there is a 5 second delay caused by the Sys.sleep call. Subsequent executions of the same cell with the same value of x, however, resolve immediately, as values for the output variables (those created or modified by the code, in this case y) are loaded from the cache without re-evaluated the code (and thus skipping the Sys.sleep invocation."
     ]
    },
    {
     "cell_type": "code",
     "collapsed": false,
     "input": [
      "%%Rcaching\n",
      "Sys.sleep(5)\n",
      "y = x^2\n",
      "y"
     ],
     "language": "python",
     "metadata": {},
     "outputs": [
      {
       "metadata": {},
       "output_type": "display_data",
       "text": [
        "[1] 1 2 3 4 5\n"
       ]
      }
     ],
     "prompt_number": 4
    },
    {
     "cell_type": "markdown",
     "metadata": {},
     "source": [
      "As described above, %%Rcaching does not create a new cache if randomness is detected when initially evaluating a piece of code (as determined by whether .Random.Seed changes during code evaluation). \n",
      "\n",
      "This can be overridden by adding the --cacherandom argument in the invocation of the magic, as seen in the toy example below. \n",
      "\n",
      "Notice the difference in behavior between the following two code cells when repeatedly executed. They are equivalent other than the use or lack there-of of the --cacherandom argument"
     ]
    },
    {
     "cell_type": "code",
     "collapsed": false,
     "input": [
      "%%Rcaching --cacherandom\n",
      "w = rnorm(3)$\n",
      "sum(w)"
     ],
     "language": "python",
     "metadata": {},
     "outputs": [
      {
       "metadata": {},
       "output_type": "display_data",
       "text": [
        "[1] 1.116405\n"
       ]
      }
     ],
     "prompt_number": 8
    },
    {
     "cell_type": "code",
     "collapsed": false,
     "input": [
      "%%Rcaching\n",
      "z = rnorm(3)\n",
      "sum(z)"
     ],
     "language": "python",
     "metadata": {},
     "outputs": [
      {
       "metadata": {},
       "output_type": "display_data",
       "text": [
        "[1] -3.076418\n"
       ]
      }
     ],
     "prompt_number": 11
    },
    {
     "cell_type": "markdown",
     "metadata": {},
     "source": [
      "The first cell performs caching, even though the return value is/depends on random values. This is good for speed, but means that each subsequent \"execution\" of the code will return the same identical result\n",
      "\n",
      "The second cell does not perform caching, as such its code is evaluated each time (even if the code and any input variables are the same as a previous execution), causing the returned value to be different each time."
     ]
    },
    {
     "cell_type": "code",
     "collapsed": false,
     "input": [],
     "language": "python",
     "metadata": {},
     "outputs": []
    }
   ],
   "metadata": {}
  }
 ]
}