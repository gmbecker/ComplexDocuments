{
 "metadata": {
  "name": ""
 },
 "nbformat": 3,
 "nbformat_minor": 0,
 "worksheets": [
  {
   "cells": [
    {
     "cell_type": "code",
     "collapsed": false,
     "input": [
      "%autosave 0"
     ],
     "language": "python",
     "metadata": {},
     "outputs": [
      {
       "javascript": [
        "IPython.notebook.set_autosave_interval(0)"
       ],
       "metadata": {},
       "output_type": "display_data"
      },
      {
       "output_type": "stream",
       "stream": "stdout",
       "text": [
        "Autosave disabled\n"
       ]
      }
     ],
     "prompt_number": 1
    },
    {
     "cell_type": "heading",
     "level": 1,
     "metadata": {},
     "source": [
      "Terminal Branches"
     ]
    },
    {
     "cell_type": "markdown",
     "metadata": {},
     "source": [
      "In many situations analysts will find themselves moving in a fundamentally different direction when a particular analysis strategy proves ineffective or suboptimal. We typically model these situations as branching points within the document, with each strategy considered or implemented (including the one ultimately selected) represented as a single branch radiating from the branchpoint.\n",
      "\n",
      "This practice is complicated, however, when the ultimately selected branch (ie the one used when generating the final results) feeds into subsequent code which makes assumptions incompatible with the output of previous branches. In this case, the other branches may contain content important to understand the research, but they can no longer be \"hot-swapped\" with the primary branch during an execution of the document.\n",
      "\n",
      "Examples of this can include using fundamentally different prediction methods which require incompatible diagnostics (eg glm and linear discriminant based classifiers). Perhaps more often is the case where the diagnosstics or displaying of results are not fundamentally incompatible, but the code used to implement them cannot be identical due to the API of the packages/software used. In this case, even when the task is the same (determine the confusion matrix of a classifier for a set of test data), the code performing those actions might be different, causing the branches to not be interchangable within the context of that document.\n",
      "\n",
      "These branches are called *terminal branches*. Any thread which visits a terminal branch as anything other than its final element is considered invalid. By default **DynDocModel** will not consider or create invalid threads, including when asked to enumerate all possible paths through the document (the invalid paths are not considered possible). "
     ]
    },
    {
     "cell_type": "markdown",
     "metadata": {},
     "source": []
    }
   ],
   "metadata": {}
  }
 ]
}